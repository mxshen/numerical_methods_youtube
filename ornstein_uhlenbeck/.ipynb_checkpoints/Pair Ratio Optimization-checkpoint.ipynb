{
 "cells": [
  {
   "cell_type": "markdown",
   "id": "40e34851",
   "metadata": {},
   "source": [
    "Optimal Mean Reversion Trading: Mathematical Analysis And Practical Applications by Tim Siu-tang Leung, Xin Li\n",
    "\n",
    "Video:  <a href = \"https://youtu.be/vHzlZECzyPE\">What is a pairs trade</A><br>\n",
    "Video:  <a href=\"https://youtu.be/GdqVY1kZ4XI\">Maximum Likelihood Estimation with Ornstein-Uhlenbeck (part 1)</A><br>\n",
    "Video:  <a href=\"https://youtu.be/3906CWKhLqQ\">Maximum Likelihood Estimation with Ornstein-Uhlenbeck (part 2)</A><br>"
   ]
  },
  {
   "cell_type": "code",
   "execution_count": 57,
   "id": "0c9fcfb2",
   "metadata": {},
   "outputs": [],
   "source": [
    "import numpy as np\n",
    "import pandas as pd\n",
    "import matplotlib.pyplot as plt\n",
    "\n",
    "%matplotlib inline"
   ]
  },
  {
   "cell_type": "markdown",
   "id": "25caa262",
   "metadata": {},
   "source": [
    "## Ornstein-Uhlenbeck Process and Parameter Determination\n",
    "\n",
    "$$ dX_t = \\mu(\\theta - X_t) dt + \\sigma dW_t$$\n",
    "\n",
    "\n",
    "When we wish to simulate this process, we use a differencing formula:\n",
    "$$X_i - x_{i-1} = \\mu(\\theta - X_i) (t_i - t_{i-1}) + \\sigma\\sqrt{t_i - t_{i-1}}W_t$$"
   ]
  },
  {
   "cell_type": "markdown",
   "id": "40949f30",
   "metadata": {},
   "source": [
    "The optimal parameters can be calculated analytically.\n",
    "\n",
    "First define\n",
    "\n",
    "$$\n",
    "X_x = \\sum_{i=1}^N x_{i-1}\n",
    "$$\n",
    "\n",
    "$$\n",
    "X_y = \\sum_{i=1}^N x_i\n",
    "$$\n",
    "\n",
    "$$\n",
    "X_{xx} = \\sum_{i=1}^N (x_{i-1})^2\n",
    "$$\n",
    "\n",
    "$$\n",
    "X_{xy} = \\sum_{i=1}^N x_{i-1} x_i\n",
    "$$\n",
    "\n",
    "$$\n",
    "X_{yy} = \\sum_{i=1}^N (x_i)^2\n",
    "$$"
   ]
  },
  {
   "cell_type": "markdown",
   "id": "5861156e",
   "metadata": {},
   "source": [
    "The optimal parameters are given by,\n",
    "\n",
    "\n",
    "$$\n",
    "\\theta^* = \\frac{X_y X_{xx} - X_x X_{xy}}\n",
    "{N(X_{xx} - X_{xy}) - (X_x^2 - X_xX_y)}\n",
    "$$\n",
    "\n",
    "$$\n",
    "\\mu^* = -\\frac{1}{\\Delta t} \\ln\\left(\n",
    "\\frac{X_{xy} - \\theta^*X_x - \\theta^*X_y + N(\\theta^*)^2}\n",
    "{X_{xx} - 2\\theta^*X_x + N(\\theta^*)^2}\\right)\n",
    "$$\n",
    "\n",
    "\n",
    "\\begin{multline}\n",
    "(\\sigma^*)^2 = \\frac{2\\mu^*}{N(1-e^{-2\\mu^*\\Delta t})} (X_{yy} - 2e^{-\\mu^*\\Delta t} X_{xy} + e^{-2\\mu^*\\Delta t}X_{xx} \\\\\n",
    "- 2\\theta^* (1-e^{-\\mu^*\\Delta t})(X_y - e^{-\\mu^*\\Delta t})X_x + N(\\theta^*)^2(1-e^{-\\mu^*\\Delta t})^2)\n",
    "\\end{multline}"
   ]
  },
  {
   "cell_type": "code",
   "execution_count": 58,
   "id": "d73002b8",
   "metadata": {},
   "outputs": [],
   "source": [
    "def log_likelihood( parameters, S, dt ):\n",
    "    theta = parameters[0]\n",
    "    mu = parameters[1]\n",
    "    sigma = parameters[2]\n",
    "    \n",
    "    sigma0 = sigma**2 * (1 - np.exp(-2*mu*dt)) / (2 * mu)\n",
    "    sigma0 = np.sqrt( sigma0 )\n",
    "        \n",
    "    N = S.size\n",
    "    \n",
    "    term1 = -0.5 * np.log(2 * np.pi)\n",
    "    term2 = -np.log(sigma0)\n",
    "    \n",
    "    prefactor = -1 / (2 * N * sigma0**2)\n",
    "    sum_term = 0\n",
    "    for i in range( 1, N ):\n",
    "        x2 = S[i]\n",
    "        x1 = S[i-1]\n",
    "        \n",
    "        sum_term = sum_term + (x2 - x1 * np.exp(-mu*dt) - \\\n",
    "                   theta * (1-np.exp(-mu*dt)))**2\n",
    "    \n",
    "    f = (term1 + term2 + prefactor * sum_term)\n",
    "\n",
    "    return f\n",
    "\n",
    "def calculate_parameters(x, dt):\n",
    "    \n",
    "    N =x.size\n",
    "    \n",
    "    Xx  = np.sum(x[0:-1])\n",
    "    Xy  = np.sum(x[1:])\n",
    "    Xxx = np.sum(x[0:-1]**2)\n",
    "    Xxy = np.sum(x[0:-1] * x[1:])\n",
    "    Xyy = np.sum(x[1:]**2)\n",
    "\n",
    "    theta0 = (Xy * Xxx - Xx * Xxy) / (N * (Xxx - Xxy) - (Xx**2 - Xx * Xy) )\n",
    "\n",
    "    mu0 = (Xxy - theta0 * Xx - theta0 * Xy + N * theta0**2) / \\\n",
    "        (Xxx - 2 * theta0 * Xx + N * theta0**2)\n",
    "    mu0 = -1 / dt * np.log(mu0)\n",
    "\n",
    "    prefactor = 2 * mu0 / (N*(1-np.exp(-2*mu0*dt)))\n",
    "    term = Xyy - 2*np.exp(-mu0*dt) * Xxy + np.exp(-2*mu0*dt) * Xxx - 2*theta0*(1-np.exp(-mu0*dt)) * (Xy - Xx * np.exp(-mu0*dt)) + N * theta0**2 * ( 1-np.exp(-mu0 * dt))**2\n",
    "\n",
    "    sigma02 = prefactor * term\n",
    "    sigma0 = np.sqrt(sigma02)\n",
    "    \n",
    "    return theta0, mu0, sigma0"
   ]
  },
  {
   "cell_type": "markdown",
   "id": "d45abc37",
   "metadata": {},
   "source": [
    "##  Pairs Price\n",
    "\n",
    "Our $X$ values will be the price of the pair over some range of time.\n",
    "\n",
    "$$\n",
    "X^{\\alpha, \\beta}_t = \\alpha S_t^{(1)} - \\beta S_t^{(2)}\n",
    "$$\n",
    "\n",
    "where $S_t^{(1)}$ and $S_t^{(2)}$ are the prices of stock one and two, respectively.  Likewise, $\\alpha$ and $\\beta$ are the numbers of shares of $S^{(1)}$ and $S^{(2)}$ owned."
   ]
  },
  {
   "cell_type": "markdown",
   "id": "1ba4b04d",
   "metadata": {},
   "source": [
    "For each potential pair, in other words for different values of $\\alpha$ and $\\beta$, we will use historical data to generate the OU parameters.\n",
    "\n",
    "We will then sweep the values for $\\alpha$ and $\\beta$ (actually the ratio) and find the values that maximize the log likelihood.  We fix $\\alpha$ and sweep $\\beta$.\n",
    "\n",
    "If we put $A$ dollars in $S^{(1)}$ we have\n",
    "$$\n",
    "\\alpha = \\frac{A}{S_0^{(1)}}.\n",
    "$$\n",
    "\n",
    "$$\n",
    "\\beta = \\frac{B}{S_0^{(2)}}.\n",
    "$$\n",
    "\n",
    "The authors do the calculation in dollar amounts.  Since we only care about a ratio, we can set $A=1$.  When w do the calculation, we can sweep the parameters by taking a range of the ratio $B/A$.  We will take $B/A = 0.001 \\ldots 1$.\n",
    "\n",
    "##  Example\n",
    "\n",
    "Our pairs will be GLD-GDX, and GLD-SLV.\n",
    "\n",
    "Let's load in the GLD, GDX, and SLV data.\n",
    "\n",
    "Data fro Aug 2011 to May 2012\n",
    "\n",
    "$N = 200$, and $\\Delta t = 1 / 252$.\n"
   ]
  },
  {
   "cell_type": "code",
   "execution_count": 59,
   "id": "4ba4fdea",
   "metadata": {},
   "outputs": [
    {
     "name": "stdout",
     "output_type": "stream",
     "text": [
      "Numbner of data points in file =  210\n"
     ]
    }
   ],
   "source": [
    "GDX = pd.read_csv('GDX_historical.csv')\n",
    "GLD = pd.read_csv('GLD_historical.csv')\n",
    "SLV = pd.read_csv('SLV_historical.csv')\n",
    "\n",
    "gld = GLD['Adj Close'].to_numpy()\n",
    "gdx = GDX['Close'].to_numpy()\n",
    "slv = SLV['Close'].to_numpy()\n",
    "\n",
    "print('Numbner of data points in file = ', gld.size)\n",
    "\n",
    "#  The book uses only 200 points, so we'll trim our data down.\n",
    "#  I wrote this so you can easily adjust which 200 points are used.\n",
    "#  Obviously, don't go beound the length of the raw data.\n",
    "\n",
    "M = 3\n",
    "gld = gld[M:M + 200]\n",
    "gdx = gdx[M:M + 200]\n",
    "slv = slv[M:M + 200]\n",
    "\n",
    "N = gld.size\n",
    "dt = 1/252"
   ]
  },
  {
   "cell_type": "code",
   "execution_count": 60,
   "id": "54dfeeac",
   "metadata": {},
   "outputs": [],
   "source": [
    "B_over_A = np.linspace(0.001, 1, 1000)\n",
    "likelihood_gld_gdx = []\n",
    "\n",
    "for value in B_over_A:\n",
    "    alpha = 1 / gld[0]\n",
    "    \n",
    "    beta = value / gdx[0]\n",
    "    \n",
    "    X = alpha * gld - beta * gdx\n",
    "    \n",
    "    parameters = calculate_parameters(X, dt)\n",
    "    likelihood_gld_gdx.append(log_likelihood(parameters, X, dt))\n",
    "    \n",
    "likelihood_gld_slv = []\n",
    "\n",
    "for value in B_over_A:\n",
    "    alpha = 1 / gld[0]\n",
    "    \n",
    "    beta = value / slv[0]\n",
    "    \n",
    "    X = alpha * gld - beta * slv\n",
    "\n",
    "    parameters = calculate_parameters(X, dt)\n",
    "    likelihood_gld_slv.append(log_likelihood(parameters, X, dt))"
   ]
  },
  {
   "cell_type": "code",
   "execution_count": 61,
   "id": "f1eeb638",
   "metadata": {},
   "outputs": [
    {
     "data": {
      "text/plain": [
       "<matplotlib.legend.Legend at 0x2ddbdc032e8>"
      ]
     },
     "execution_count": 61,
     "metadata": {},
     "output_type": "execute_result"
    },
    {
     "data": {
      "image/png": "[encoded data removed]",
      "text/plain": [
       "<Figure size 432x288 with 1 Axes>"
      ]
     },
     "metadata": {
      "needs_background": "light"
     },
     "output_type": "display_data"
    }
   ],
   "source": [
    "#  We want to plot things in terms of B, but we set A = 1 above so B/A = B.\n",
    "#  I am just making it explicit here for clarity.\n",
    "B = B_over_A * 1\n",
    "plt.plot(B, likelihood_gld_gdx, 'k', label = 'GLD-GDX')\n",
    "plt.plot(B, likelihood_gld_slv, ':', label = 'GLD-SLV')\n",
    "plt.xlabel('B')\n",
    "plt.ylabel('Log Likelihood')\n",
    "plt.grid()\n",
    "plt.legend()"
   ]
  },
  {
   "cell_type": "markdown",
   "id": "766c21d5",
   "metadata": {},
   "source": [
    "Now we’ll figure out which value of $B$ gives the maximum log likelihood.  There are better ways to do this, but this is probably the simplest if our $B$-vector  has a high enough density of points.  We’ll just find the maximum value of the log likelihood, find which index corresponds to that vector, and pull out the $B$-value with that index.\n",
    "\n",
    "The book gets these values:\n",
    "GLD-GDX: 0.454<br>\n",
    "GLD-SLV:  0.493\n",
    "\n",
    "We get numbers that are close, but slightly different."
   ]
  },
  {
   "cell_type": "code",
   "execution_count": 63,
   "id": "11c01e4b",
   "metadata": {},
   "outputs": [
    {
     "name": "stdout",
     "output_type": "stream",
     "text": [
      "GLD-GDX:  0.499\n",
      "GLD-SLV:  0.533\n"
     ]
    }
   ],
   "source": [
    "V = np.amax(likelihood_gld_gdx)\n",
    "ind = np.where(likelihood_gld_gdx == V)\n",
    "ind = ind[0]\n",
    "print('GLD-GDX: ', B[ind][0] )\n",
    "\n",
    "#  Do the same with for the pair with SLV\n",
    "V = np.amax(likelihood_gld_slv)\n",
    "ind = np.where(likelihood_gld_slv == V)\n",
    "ind = ind[0]\n",
    "print('GLD-SLV: ', B[ind][0] )"
   ]
  },
  {
   "cell_type": "code",
   "execution_count": null,
   "id": "48241646",
   "metadata": {},
   "outputs": [],
   "source": []
  }
 ],
 "metadata": {
  "kernelspec": {
   "display_name": "Python 3 (ipykernel)",
   "language": "python",
   "name": "python3"
  },
  "language_info": {
   "codemirror_mode": {
    "name": "ipython",
    "version": 3
   },
   "file_extension": ".py",
   "mimetype": "text/x-python",
   "name": "python",
   "nbconvert_exporter": "python",
   "pygments_lexer": "ipython3",
   "version": "3.9.7"
  },
  "varInspector": {
   "cols": {
    "lenName": 16,
    "lenType": 16,
    "lenVar": 40
   },
   "kernels_config": {
    "python": {
     "delete_cmd_postfix": "",
     "delete_cmd_prefix": "del ",
     "library": "var_list.py",
     "varRefreshCmd": "print(var_dic_list())"
    },
    "r": {
     "delete_cmd_postfix": ") ",
     "delete_cmd_prefix": "rm(",
     "library": "var_list.r",
     "varRefreshCmd": "cat(var_dic_list()) "
    }
   },
   "types_to_exclude": [
    "module",
    "function",
    "builtin_function_or_method",
    "instance",
    "_Feature"
   ],
   "window_display": false
  }
 },
 "nbformat": 4,
 "nbformat_minor": 5
}
