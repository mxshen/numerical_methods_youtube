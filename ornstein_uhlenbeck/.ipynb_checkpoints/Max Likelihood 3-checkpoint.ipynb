{
 "cells": [
  {
   "cell_type": "code",
   "execution_count": 1,
   "id": "f27ab38a",
   "metadata": {},
   "outputs": [],
   "source": [
    "import numpy as np\n",
    "from scipy.stats import norm\n",
    "import matplotlib.pyplot as plt\n",
    "\n",
    "%matplotlib inline"
   ]
  },
  {
   "cell_type": "markdown",
   "id": "038f9436",
   "metadata": {},
   "source": [
    "$$\n",
    "f(x; \\mu, \\sigma) = \\frac{1}{\\sigma \\sqrt{2\\pi}} e^{-\\frac{1}{2}\\left(\n",
    "    \\frac{x-\\mu}{\\sigma} \\right)^2}\n",
    "$$"
   ]
  },
  {
   "cell_type": "code",
   "execution_count": 2,
   "id": "9bb5bd33",
   "metadata": {},
   "outputs": [
    {
     "data": {
      "text/plain": [
       "array([0.04839414, 0.00088637])"
      ]
     },
     "execution_count": 2,
     "metadata": {},
     "output_type": "execute_result"
    }
   ],
   "source": [
    "mu  = 175\n",
    "sigma = 5\n",
    "\n",
    "x = [170, 190]\n",
    "\n",
    "norm.pdf(x, mu, sigma)"
   ]
  },
  {
   "cell_type": "markdown",
   "id": "b0b803c6",
   "metadata": {},
   "source": [
    "$$\n",
    "f(\\mu, \\sigma; x) = \\frac{1}{\\sigma \\sqrt{2\\pi}} e^{-\\frac{1}{2}\\left(\n",
    "    \\frac{x-\\mu}{\\sigma} \\right)^2}\n",
    "$$"
   ]
  },
  {
   "cell_type": "code",
   "execution_count": 3,
   "id": "a6c1e40b",
   "metadata": {},
   "outputs": [],
   "source": [
    "np.random.seed(31)"
   ]
  },
  {
   "cell_type": "code",
   "execution_count": 6,
   "id": "39c793fe",
   "metadata": {},
   "outputs": [
    {
     "data": {
      "image/png": "[encoded data removed]",
      "text/plain": [
       "<Figure size 432x288 with 1 Axes>"
      ]
     },
     "metadata": {
      "needs_background": "light"
     },
     "output_type": "display_data"
    }
   ],
   "source": [
    "N = 10\n",
    "\n",
    "mu = 2\n",
    "sigma = 2\n",
    "\n",
    "X = np.linspace(-4, 8, 100)\n",
    "Y = norm.pdf(X, mu, sigma)\n",
    "plt.plot(X, Y, 'k')\n",
    "\n",
    "x = np.random.normal(mu, sigma, size = (N,))\n",
    "plt.plot(x, np.zeros(x.shape), '.')\n",
    "plt.xlim(np.amin(X), np.amax(X))\n",
    "\n",
    "for i in range(x.size):\n",
    "    plt.plot((x[i], x[i]), (0, norm.pdf(x[i], mu, sigma)), 'k:'  )"
   ]
  },
  {
   "cell_type": "markdown",
   "id": "2424c371",
   "metadata": {},
   "source": [
    "Since points seen to cluster where the likelihood is a maximum, we will coohse $\\mu$, and $\\sigma$ such that we maximize the likelihood give our observed data.\n",
    "\n",
    "In calculus, we find the maxiumum of a function by taking its derivative with respect to our variable of interest, and setting it to zero.  We then solve the equation for our variable."
   ]
  },
  {
   "cell_type": "markdown",
   "id": "0b93d901",
   "metadata": {},
   "source": [
    "$$f = f(x_1)f(x_2)...f(x_{N-1})f(x_N) = \\prod_{i = 1}^N f(x_i)$$\n",
    "\n",
    "So, for our problem,\n",
    "$$\n",
    "f(\\mu, \\sigma; x_1...x_N) = \\prod_{i=1}^N \\frac{1}{\\sigma \\sqrt{2\\pi}} e^{-\\frac{1}{2}\\left(\n",
    "    \\frac{x_i-\\mu}{\\sigma} \\right)^2}\n",
    "$$\n",
    "\n",
    "$$\\log(AB) = \\log(A) + \\log(B)$$"
   ]
  },
  {
   "cell_type": "markdown",
   "id": "7e98efee",
   "metadata": {},
   "source": [
    "$$\n",
    "\\log(f(\\mu, \\sigma; x_1...x_N)) = \\log\\left[\\prod_{i=1}^N \\frac{1}{\\sigma \\sqrt{2\\pi}} e^{-\\frac{1}{2}\\left(\n",
    "    \\frac{x_i-\\mu}{\\sigma} \\right)^2}\\right]\n",
    "$$\n",
    "\n",
    "This becomes\n",
    "\n",
    "$$\n",
    "\\log(f(\\mu, \\sigma; x_1...x_N)) = \\sum_{i=1}^N\\left[ \\log \\frac{1}{\\sigma \\sqrt{2\\pi}} e^{-\\frac{1}{2}\\left(\n",
    "    \\frac{x_i-\\mu}{\\sigma} \\right)^2}\\right]\n",
    "$$"
   ]
  },
  {
   "cell_type": "markdown",
   "id": "0fa4f12c",
   "metadata": {},
   "source": [
    "$$\\frac{d}{d\\mu}\\sum_{i=1}^N\\left[ \\log \\frac{1}{\\sigma \\sqrt{2\\pi}} e^{-\\frac{1}{2}\\left(\n",
    "    \\frac{x_i-\\mu}{\\sigma} \\right)^2}\\right] = 0$$\n",
    "    \n",
    "This becomes,\n",
    "    \n",
    "$$\\frac{d}{d\\mu}\\sum_{i=1}^N\\left[ \\log \\left(\\frac{1}{\\sigma \\sqrt{2\\pi}}\\right)  + \\log \\left(e^{-\\frac{1}{2}\\left(\n",
    "    \\frac{x_i-\\mu}{\\sigma} \\right)^2}\\right)\\right] = 0$$\n",
    "    \n",
    "$$\\frac{d}{d\\mu}\\sum_{i=1}^N\\left[ \\log \\left(\\frac{1}{\\sigma \\sqrt{2\\pi}}\\right)  + \\left(-\\frac{1}{2}\\left(\n",
    "    \\frac{x_i-\\mu}{\\sigma} \\right)^2\\right)\\right] = 0$$\n",
    "    \n",
    "$$\\frac{d}{d\\mu}\\sum_{i=1}^N\\left(-\\frac{1}{2}\\left(\n",
    "    \\frac{x_i-\\mu}{\\sigma} \\right)^2\\right) = 0$$\n",
    "    \n",
    "$$\\sum_{i=1}^N -\\left(\n",
    "    \\frac{x_i-\\mu}{\\sigma} \\right)\\left(\\frac{-1}{\\sigma}\\right) = 0$$\n",
    "    \n",
    "$$\\sum_{i=1}^N (x_i-\\mu) = 0$$\n",
    "\n",
    "$$\\sum_{i=1}^N x_i - \\sum_{i=1}^N \\mu = 0$$\n",
    "\n",
    "$$\\sum_{i=1}^N x_i - N \\mu = 0$$\n",
    "\n",
    "$$\\mu = \\frac{1}{N}\\sum_{i=1}^N x_i$$"
   ]
  },
  {
   "cell_type": "code",
   "execution_count": null,
   "id": "32601798",
   "metadata": {},
   "outputs": [],
   "source": []
  }
 ],
 "metadata": {
  "kernelspec": {
   "display_name": "Python 3 (ipykernel)",
   "language": "python",
   "name": "python3"
  },
  "language_info": {
   "codemirror_mode": {
    "name": "ipython",
    "version": 3
   },
   "file_extension": ".py",
   "mimetype": "text/x-python",
   "name": "python",
   "nbconvert_exporter": "python",
   "pygments_lexer": "ipython3",
   "version": "3.9.7"
  },
  "varInspector": {
   "cols": {
    "lenName": 16,
    "lenType": 16,
    "lenVar": 40
   },
   "kernels_config": {
    "python": {
     "delete_cmd_postfix": "",
     "delete_cmd_prefix": "del ",
     "library": "var_list.py",
     "varRefreshCmd": "print(var_dic_list())"
    },
    "r": {
     "delete_cmd_postfix": ") ",
     "delete_cmd_prefix": "rm(",
     "library": "var_list.r",
     "varRefreshCmd": "cat(var_dic_list()) "
    }
   },
   "types_to_exclude": [
    "module",
    "function",
    "builtin_function_or_method",
    "instance",
    "_Feature"
   ],
   "window_display": false
  }
 },
 "nbformat": 4,
 "nbformat_minor": 5
}
